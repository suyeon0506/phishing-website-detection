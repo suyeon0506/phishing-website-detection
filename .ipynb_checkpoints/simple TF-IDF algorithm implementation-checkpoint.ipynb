{
 "cells": [
  {
   "cell_type": "code",
   "execution_count": 1,
   "metadata": {},
   "outputs": [
    {
     "name": "stdout",
     "output_type": "stream",
     "text": [
      "input test case number : 3\n",
      "test input 0 : I I I love you love\n",
      "test input 1 : you you I I love you\n",
      "test input 2 : I love me not not you\n",
      "\n",
      "==========TFIDF #0==========\n",
      "\n",
      "I  :  0.16666666666666666\n",
      "love  :  0.07407407407407407\n",
      "you  :  0.046296296296296294\n",
      "\n",
      "==========TFIDF #1==========\n",
      "\n",
      "you  :  0.1388888888888889\n",
      "I  :  0.1111111111111111\n",
      "love  :  0.037037037037037035\n",
      "\n",
      "==========TFIDF #2==========\n",
      "\n",
      "I  :  0.05555555555555555\n",
      "love  :  0.037037037037037035\n",
      "me  :  0.009259259259259259\n",
      "not  :  0.037037037037037035\n",
      "you  :  0.046296296296296294\n"
     ]
    }
   ],
   "source": [
    "#Term Frequency (tf): gives the frequency of the word in each document in the corpus\n",
    "def myTF(string):\n",
    "    L = string.split()\n",
    "    total = len(L)\n",
    "    myDict = {}\n",
    "    \n",
    "    for i in range(total):\n",
    "        if L[i] in myDict:\n",
    "            myDict[L[i]] += 1\n",
    "        else:\n",
    "            myDict[L[i]] = 1\n",
    "\n",
    "    for word, count in myDict.items():\n",
    "        myDict[word] = count/total\n",
    "\n",
    "    return myDict\n",
    "\n",
    "#Inverse Data Frequency (idf): calculate the weight of rare words across all documents in the corpus.\n",
    "#The words that occur rarely in the corpus have a high IDF score.\n",
    "def myIDF(str_list):\n",
    "    total = 0\n",
    "    myDict = {}\n",
    "    for i in range(len(str_list)):\n",
    "        L = str_list[i].split()\n",
    "        total += len(L)\n",
    "        \n",
    "        for j in range(len(L)):\n",
    "            if L[j] in myDict:\n",
    "                myDict[L[j]] += 1\n",
    "            else:\n",
    "                myDict[L[j]] = 1\n",
    "\n",
    "    for word, count in myDict.items():\n",
    "        myDict[word] = count/total\n",
    "\n",
    "    return myDict\n",
    "\n",
    "#main\n",
    "str_list = []\n",
    "num = int(input(\"input test case number : \"))\n",
    "for i in range(num):\n",
    "    s = input(\"test input \"+str(i)+\" : \")\n",
    "    str_list.append(s)\n",
    "    \n",
    "idfDict = myIDF(str_list)\n",
    "\n",
    "#TFIDF = TF * IDF\n",
    "for i in range(num):\n",
    "    tfDict = myTF(str_list[i])\n",
    "    print(\"\\n==========TFIDF #%d==========\\n\"%i)\n",
    "    for word, count in tfDict.items():\n",
    "        print(word, \" : \", count * idfDict[word])"
   ]
  }
 ],
 "metadata": {
  "kernelspec": {
   "display_name": "Python 3",
   "language": "python",
   "name": "python3"
  },
  "language_info": {
   "codemirror_mode": {
    "name": "ipython",
    "version": 3
   },
   "file_extension": ".py",
   "mimetype": "text/x-python",
   "name": "python",
   "nbconvert_exporter": "python",
   "pygments_lexer": "ipython3",
   "version": "3.6.8"
  }
 },
 "nbformat": 4,
 "nbformat_minor": 2
}
